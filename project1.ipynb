{
 "cells": [
  {
   "cell_type": "markdown",
   "metadata": {},
   "source": [
    "<h1> Predicting song success </h1>"
   ]
  },
  {
   "cell_type": "code",
   "execution_count": 3,
   "metadata": {},
   "outputs": [],
   "source": [
    "import pandas as pd\n",
    "import numpy as np\n",
    "from sklearn import preprocessing\n",
    "import seaborn as sns\n",
    "from matplotlib import pyplot as plt\n",
    "from sklearn.metrics import precision_score, recall_score, f1_score ,confusion_matrix"
   ]
  },
  {
   "cell_type": "code",
   "execution_count": 4,
   "metadata": {},
   "outputs": [
    {
     "data": {
      "text/html": [
       "<div>\n",
       "<style scoped>\n",
       "    .dataframe tbody tr th:only-of-type {\n",
       "        vertical-align: middle;\n",
       "    }\n",
       "\n",
       "    .dataframe tbody tr th {\n",
       "        vertical-align: top;\n",
       "    }\n",
       "\n",
       "    .dataframe thead th {\n",
       "        text-align: right;\n",
       "    }\n",
       "</style>\n",
       "<table border=\"1\" class=\"dataframe\">\n",
       "  <thead>\n",
       "    <tr style=\"text-align: right;\">\n",
       "      <th></th>\n",
       "      <th>track</th>\n",
       "      <th>artist</th>\n",
       "      <th>uri</th>\n",
       "      <th>danceability</th>\n",
       "      <th>energy</th>\n",
       "      <th>key</th>\n",
       "      <th>loudness</th>\n",
       "      <th>mode</th>\n",
       "      <th>speechiness</th>\n",
       "      <th>acousticness</th>\n",
       "      <th>instrumentalness</th>\n",
       "      <th>liveness</th>\n",
       "      <th>valence</th>\n",
       "      <th>tempo</th>\n",
       "      <th>duration_ms</th>\n",
       "      <th>time_signature</th>\n",
       "      <th>chorus_hit</th>\n",
       "      <th>sections</th>\n",
       "      <th>target</th>\n",
       "    </tr>\n",
       "  </thead>\n",
       "  <tbody>\n",
       "    <tr>\n",
       "      <th>0</th>\n",
       "      <td>Wild Things</td>\n",
       "      <td>Alessia Cara</td>\n",
       "      <td>spotify:track:2ZyuwVvV6Z3XJaXIFbspeE</td>\n",
       "      <td>0.741</td>\n",
       "      <td>0.626</td>\n",
       "      <td>1</td>\n",
       "      <td>-4.826</td>\n",
       "      <td>0</td>\n",
       "      <td>0.0886</td>\n",
       "      <td>0.02000</td>\n",
       "      <td>0.000</td>\n",
       "      <td>0.0828</td>\n",
       "      <td>0.706</td>\n",
       "      <td>108.029</td>\n",
       "      <td>188493</td>\n",
       "      <td>4</td>\n",
       "      <td>41.18681</td>\n",
       "      <td>10.0</td>\n",
       "      <td>1</td>\n",
       "    </tr>\n",
       "    <tr>\n",
       "      <th>1</th>\n",
       "      <td>Surfboard</td>\n",
       "      <td>Esquivel!</td>\n",
       "      <td>spotify:track:61APOtq25SCMuK0V5w2Kgp</td>\n",
       "      <td>0.447</td>\n",
       "      <td>0.247</td>\n",
       "      <td>5</td>\n",
       "      <td>-14.661</td>\n",
       "      <td>0</td>\n",
       "      <td>0.0346</td>\n",
       "      <td>0.87100</td>\n",
       "      <td>0.814</td>\n",
       "      <td>0.0946</td>\n",
       "      <td>0.250</td>\n",
       "      <td>155.489</td>\n",
       "      <td>176880</td>\n",
       "      <td>3</td>\n",
       "      <td>33.18083</td>\n",
       "      <td>9.0</td>\n",
       "      <td>0</td>\n",
       "    </tr>\n",
       "    <tr>\n",
       "      <th>2</th>\n",
       "      <td>Love Someone</td>\n",
       "      <td>Lukas Graham</td>\n",
       "      <td>spotify:track:2JqnpexlO9dmvjUMCaLCLJ</td>\n",
       "      <td>0.550</td>\n",
       "      <td>0.415</td>\n",
       "      <td>9</td>\n",
       "      <td>NaN</td>\n",
       "      <td>0</td>\n",
       "      <td>0.0520</td>\n",
       "      <td>0.16100</td>\n",
       "      <td>0.000</td>\n",
       "      <td>0.1080</td>\n",
       "      <td>0.274</td>\n",
       "      <td>172.065</td>\n",
       "      <td>205463</td>\n",
       "      <td>4</td>\n",
       "      <td>44.89147</td>\n",
       "      <td>9.0</td>\n",
       "      <td>1</td>\n",
       "    </tr>\n",
       "    <tr>\n",
       "      <th>3</th>\n",
       "      <td>Music To My Ears (feat. Tory Lanez)</td>\n",
       "      <td>Keys N Krates</td>\n",
       "      <td>spotify:track:0cjfLhk8WJ3etPTCseKXtk</td>\n",
       "      <td>0.502</td>\n",
       "      <td>0.648</td>\n",
       "      <td>0</td>\n",
       "      <td>-5.698</td>\n",
       "      <td>0</td>\n",
       "      <td>0.0527</td>\n",
       "      <td>0.00513</td>\n",
       "      <td>0.000</td>\n",
       "      <td>0.2040</td>\n",
       "      <td>0.291</td>\n",
       "      <td>91.837</td>\n",
       "      <td>193043</td>\n",
       "      <td>4</td>\n",
       "      <td>29.52521</td>\n",
       "      <td>7.0</td>\n",
       "      <td>0</td>\n",
       "    </tr>\n",
       "    <tr>\n",
       "      <th>4</th>\n",
       "      <td>Juju On That Beat (TZ Anthem)</td>\n",
       "      <td>Zay Hilfigerrr &amp; Zayion McCall</td>\n",
       "      <td>spotify:track:1lItf5ZXJc1by9SbPeljFd</td>\n",
       "      <td>0.807</td>\n",
       "      <td>0.887</td>\n",
       "      <td>1</td>\n",
       "      <td>-3.892</td>\n",
       "      <td>1</td>\n",
       "      <td>0.2750</td>\n",
       "      <td>0.00381</td>\n",
       "      <td>0.000</td>\n",
       "      <td>0.3910</td>\n",
       "      <td>0.780</td>\n",
       "      <td>160.517</td>\n",
       "      <td>144244</td>\n",
       "      <td>4</td>\n",
       "      <td>24.99199</td>\n",
       "      <td>8.0</td>\n",
       "      <td>1</td>\n",
       "    </tr>\n",
       "  </tbody>\n",
       "</table>\n",
       "</div>"
      ],
      "text/plain": [
       "                                 track                          artist  \\\n",
       "0                          Wild Things                    Alessia Cara   \n",
       "1                            Surfboard                       Esquivel!   \n",
       "2                         Love Someone                    Lukas Graham   \n",
       "3  Music To My Ears (feat. Tory Lanez)                   Keys N Krates   \n",
       "4        Juju On That Beat (TZ Anthem)  Zay Hilfigerrr & Zayion McCall   \n",
       "\n",
       "                                    uri  danceability  energy  key  loudness  \\\n",
       "0  spotify:track:2ZyuwVvV6Z3XJaXIFbspeE         0.741   0.626    1    -4.826   \n",
       "1  spotify:track:61APOtq25SCMuK0V5w2Kgp         0.447   0.247    5   -14.661   \n",
       "2  spotify:track:2JqnpexlO9dmvjUMCaLCLJ         0.550   0.415    9       NaN   \n",
       "3  spotify:track:0cjfLhk8WJ3etPTCseKXtk         0.502   0.648    0    -5.698   \n",
       "4  spotify:track:1lItf5ZXJc1by9SbPeljFd         0.807   0.887    1    -3.892   \n",
       "\n",
       "   mode  speechiness  acousticness  instrumentalness  liveness  valence  \\\n",
       "0     0       0.0886       0.02000             0.000    0.0828    0.706   \n",
       "1     0       0.0346       0.87100             0.814    0.0946    0.250   \n",
       "2     0       0.0520       0.16100             0.000    0.1080    0.274   \n",
       "3     0       0.0527       0.00513             0.000    0.2040    0.291   \n",
       "4     1       0.2750       0.00381             0.000    0.3910    0.780   \n",
       "\n",
       "     tempo  duration_ms  time_signature  chorus_hit  sections  target  \n",
       "0  108.029       188493               4    41.18681      10.0       1  \n",
       "1  155.489       176880               3    33.18083       9.0       0  \n",
       "2  172.065       205463               4    44.89147       9.0       1  \n",
       "3   91.837       193043               4    29.52521       7.0       0  \n",
       "4  160.517       144244               4    24.99199       8.0       1  "
      ]
     },
     "execution_count": 4,
     "metadata": {},
     "output_type": "execute_result"
    }
   ],
   "source": [
    "df= pd.read_csv(r'C:\\Users\\HP\\Downloads\\dataset.csv')\n",
    "df.head()"
   ]
  },
  {
   "cell_type": "markdown",
   "metadata": {},
   "source": [
    "<h2> Data Preprocessing </h2>"
   ]
  },
  {
   "cell_type": "code",
   "execution_count": 5,
   "metadata": {},
   "outputs": [
    {
     "data": {
      "text/plain": [
       "track               0\n",
       "artist              0\n",
       "uri                 0\n",
       "danceability        0\n",
       "energy              0\n",
       "key                 0\n",
       "loudness            5\n",
       "mode                0\n",
       "speechiness         0\n",
       "acousticness        0\n",
       "instrumentalness    0\n",
       "liveness            0\n",
       "valence             0\n",
       "tempo               4\n",
       "duration_ms         0\n",
       "time_signature      0\n",
       "chorus_hit          0\n",
       "sections            2\n",
       "target              0\n",
       "dtype: int64"
      ]
     },
     "execution_count": 5,
     "metadata": {},
     "output_type": "execute_result"
    }
   ],
   "source": [
    "df.isnull().sum()"
   ]
  },
  {
   "cell_type": "code",
   "execution_count": 6,
   "metadata": {},
   "outputs": [],
   "source": [
    "df.dropna(subset=['tempo','loudness','sections'],axis=0 ,inplace=True)"
   ]
  },
  {
   "cell_type": "code",
   "execution_count": 7,
   "metadata": {},
   "outputs": [
    {
     "data": {
      "text/plain": [
       "track                object\n",
       "artist               object\n",
       "uri                  object\n",
       "danceability        float64\n",
       "energy              float64\n",
       "key                   int64\n",
       "loudness            float64\n",
       "mode                  int64\n",
       "speechiness         float64\n",
       "acousticness        float64\n",
       "instrumentalness    float64\n",
       "liveness            float64\n",
       "valence             float64\n",
       "tempo               float64\n",
       "duration_ms           int64\n",
       "time_signature        int64\n",
       "chorus_hit          float64\n",
       "sections            float64\n",
       "target                int64\n",
       "dtype: object"
      ]
     },
     "execution_count": 7,
     "metadata": {},
     "output_type": "execute_result"
    }
   ],
   "source": [
    "df.dtypes"
   ]
  },
  {
   "cell_type": "markdown",
   "metadata": {},
   "source": [
    "<h2> Feature Selection </h2>"
   ]
  },
  {
   "cell_type": "code",
   "execution_count": 8,
   "metadata": {},
   "outputs": [],
   "source": [
    "df.drop(['track', 'artist', 'uri'], axis=1, inplace=True)"
   ]
  },
  {
   "cell_type": "code",
   "execution_count": 10,
   "metadata": {},
   "outputs": [],
   "source": [
    "X= df.iloc[:,0:-1]\n",
    "y = df.iloc[:,[-1]]"
   ]
  },
  {
   "cell_type": "markdown",
   "metadata": {},
   "source": [
    "<h2> normalisation </h2>"
   ]
  },
  {
   "cell_type": "code",
   "execution_count": 11,
   "metadata": {},
   "outputs": [],
   "source": [
    "X = preprocessing.StandardScaler().fit(X).transform(X)"
   ]
  },
  {
   "cell_type": "markdown",
   "metadata": {},
   "source": [
    "<h2> Splitting data </h2>"
   ]
  },
  {
   "cell_type": "code",
   "execution_count": 12,
   "metadata": {},
   "outputs": [],
   "source": [
    "from sklearn.model_selection import train_test_split"
   ]
  },
  {
   "cell_type": "code",
   "execution_count": 13,
   "metadata": {},
   "outputs": [
    {
     "name": "stdout",
     "output_type": "stream",
     "text": [
      "Train set: (5109, 15) (5109, 1)\n",
      "Test set: (1278, 15) (1278, 1)\n"
     ]
    }
   ],
   "source": [
    "X_train, X_test, y_train, y_test = train_test_split( X, y, test_size=0.2, random_state=4)\n",
    "print ('Train set:', X_train.shape,  y_train.shape)\n",
    "print ('Test set:', X_test.shape,  y_test.shape)"
   ]
  },
  {
   "cell_type": "markdown",
   "metadata": {},
   "source": [
    "<h1> logistic regression </h1>"
   ]
  },
  {
   "cell_type": "code",
   "execution_count": 14,
   "metadata": {},
   "outputs": [
    {
     "data": {
      "text/plain": [
       "LogisticRegression(C=0.01, solver='liblinear')"
      ]
     },
     "execution_count": 14,
     "metadata": {},
     "output_type": "execute_result"
    }
   ],
   "source": [
    "from sklearn.linear_model import LogisticRegression\n",
    "LR = LogisticRegression(C=0.01, solver='liblinear').fit(X_train,y_train.values.ravel())\n",
    "LR"
   ]
  },
  {
   "cell_type": "code",
   "execution_count": 15,
   "metadata": {},
   "outputs": [
    {
     "data": {
      "text/plain": [
       "array([1, 1, 1, ..., 0, 1, 1], dtype=int64)"
      ]
     },
     "execution_count": 15,
     "metadata": {},
     "output_type": "execute_result"
    }
   ],
   "source": [
    "yhat = LR.predict(X_test)\n",
    "yhat"
   ]
  },
  {
   "cell_type": "code",
   "execution_count": 16,
   "metadata": {},
   "outputs": [
    {
     "data": {
      "text/plain": [
       "array([[0.39079598, 0.60920402],\n",
       "       [0.20100786, 0.79899214],\n",
       "       [0.31419351, 0.68580649],\n",
       "       ...,\n",
       "       [0.51186024, 0.48813976],\n",
       "       [0.22171634, 0.77828366],\n",
       "       [0.13226905, 0.86773095]])"
      ]
     },
     "execution_count": 16,
     "metadata": {},
     "output_type": "execute_result"
    }
   ],
   "source": [
    "yhat_prob = LR.predict_proba(X_test)\n",
    "yhat_prob"
   ]
  },
  {
   "cell_type": "code",
   "execution_count": 18,
   "metadata": {},
   "outputs": [],
   "source": [
    "from sklearn.metrics import accuracy_score"
   ]
  },
  {
   "cell_type": "code",
   "execution_count": 19,
   "metadata": {},
   "outputs": [
    {
     "name": "stdout",
     "output_type": "stream",
     "text": [
      "confusion matrix : \n",
      " [[410 213]\n",
      " [ 56 599]]\n",
      "precision: 0.7376847290640394\n",
      "recall:    0.9145038167938931\n",
      "f-score:   0.8166325835037491\n",
      "accuracy   0.7895148669796557\n"
     ]
    }
   ],
   "source": [
    "p_score = precision_score(y_test, yhat)\n",
    "r_score = recall_score(y_test, yhat)\n",
    "f1 = f1_score(y_test, yhat)\n",
    "ac=accuracy_score(y_test,yhat)\n",
    "cfmatrix = confusion_matrix(y_test, yhat)\n",
    "print(\"confusion matrix : \\n \"+ str(cfmatrix ))\n",
    "print(\"precision: \"+ str(p_score))\n",
    "print(\"recall:    \"+str(r_score))\n",
    "print(\"f-score:   \" + str(f1))\n",
    "print(\"accuracy   \" + str(ac))"
   ]
  },
  {
   "cell_type": "markdown",
   "metadata": {},
   "source": [
    "<h1> KNN </h1>"
   ]
  },
  {
   "cell_type": "code",
   "execution_count": 20,
   "metadata": {},
   "outputs": [
    {
     "data": {
      "text/plain": [
       "[0.7574334898278561,\n",
       " 0.7347417840375586,\n",
       " 0.7777777777777778,\n",
       " 0.7550860719874805,\n",
       " 0.7683881064162754,\n",
       " 0.7676056338028169,\n",
       " 0.7769953051643192,\n",
       " 0.7746478873239436,\n",
       " 0.7895148669796557]"
      ]
     },
     "execution_count": 20,
     "metadata": {},
     "output_type": "execute_result"
    }
   ],
   "source": [
    "from sklearn.neighbors import KNeighborsClassifier\n",
    "from sklearn.metrics import accuracy_score\n",
    "ks=10\n",
    "mean_acc=[]\n",
    "for k in range(1,ks):\n",
    "    neigh=KNeighborsClassifier(n_neighbors = k)\n",
    "    neigh.fit(X_train,y_train.values.ravel())\n",
    "    yhat=neigh.predict(X_test)\n",
    "    mean_acc.append(accuracy_score(yhat,y_test))\n",
    "mean_acc"
   ]
  },
  {
   "cell_type": "code",
   "execution_count": 21,
   "metadata": {},
   "outputs": [
    {
     "name": "stdout",
     "output_type": "stream",
     "text": [
      "the best value of k is\n"
     ]
    },
    {
     "data": {
      "text/plain": [
       "8"
      ]
     },
     "execution_count": 21,
     "metadata": {},
     "output_type": "execute_result"
    }
   ],
   "source": [
    "max_acc=max(mean_acc)\n",
    "print(\"the best value of k is\")\n",
    "mean_acc.index(max_acc)"
   ]
  },
  {
   "cell_type": "code",
   "execution_count": 22,
   "metadata": {},
   "outputs": [
    {
     "name": "stdout",
     "output_type": "stream",
     "text": [
      "confusion matrix : \n",
      " [[396  42]\n",
      " [227 613]]\n",
      "precision: 0.9358778625954198\n",
      "recall:    0.7297619047619047\n",
      "f-score:   0.820066889632107\n",
      "accuracy   0.7895148669796557\n"
     ]
    }
   ],
   "source": [
    "from sklearn.metrics import classification_report, confusion_matrix, accuracy_score\n",
    "\n",
    "p_score = precision_score(yhat,y_test)\n",
    "r_score = recall_score(yhat,y_test)\n",
    "f1 = f1_score(yhat,y_test)\n",
    "cfmatrix = confusion_matrix(yhat,y_test)\n",
    "ac=accuracy_score(yhat,y_test)\n",
    "print(\"confusion matrix : \\n \"+ str(cfmatrix ))\n",
    "print(\"precision: \"+ str(p_score))\n",
    "print(\"recall:    \"+str(r_score))\n",
    "print(\"f-score:   \" + str(f1))\n",
    "print(\"accuracy   \" + str(ac))"
   ]
  },
  {
   "cell_type": "markdown",
   "metadata": {},
   "source": [
    "<h1> SVM </h1>"
   ]
  },
  {
   "cell_type": "code",
   "execution_count": 23,
   "metadata": {},
   "outputs": [
    {
     "data": {
      "text/plain": [
       "SVC()"
      ]
     },
     "execution_count": 23,
     "metadata": {},
     "output_type": "execute_result"
    }
   ],
   "source": [
    "from sklearn import svm\n",
    "loan_svm = svm.SVC(kernel='rbf')\n",
    "loan_svm.fit(X_train, y_train.values.ravel())"
   ]
  },
  {
   "cell_type": "code",
   "execution_count": 24,
   "metadata": {},
   "outputs": [],
   "source": [
    "yhat3 = loan_svm.predict(X_test)"
   ]
  },
  {
   "cell_type": "code",
   "execution_count": 25,
   "metadata": {},
   "outputs": [
    {
     "data": {
      "text/plain": [
       "0.8137715179968701"
      ]
     },
     "execution_count": 25,
     "metadata": {},
     "output_type": "execute_result"
    }
   ],
   "source": [
    "accuracy_score(yhat3,y_test)"
   ]
  },
  {
   "cell_type": "code",
   "execution_count": 26,
   "metadata": {},
   "outputs": [
    {
     "name": "stdout",
     "output_type": "stream",
     "text": [
      "confusion matrix : \n",
      " [[436  51]\n",
      " [187 604]]\n",
      "precision: 0.9221374045801527\n",
      "recall:    0.7635903919089759\n",
      "f-score:   0.8354080221300139\n",
      "accuracy   0.8137715179968701\n"
     ]
    }
   ],
   "source": [
    "from sklearn.metrics import classification_report, confusion_matrix, accuracy_score\n",
    "\n",
    "p_score = precision_score(yhat3,y_test)\n",
    "r_score = recall_score(yhat3,y_test)\n",
    "f1 = f1_score(yhat3,y_test)\n",
    "cfmatrix = confusion_matrix(yhat3,y_test)\n",
    "ac=accuracy_score(yhat3,y_test)\n",
    "print(\"confusion matrix : \\n \"+ str(cfmatrix ))\n",
    "print(\"precision: \"+ str(p_score))\n",
    "print(\"recall:    \"+str(r_score))\n",
    "print(\"f-score:   \" + str(f1))\n",
    "print(\"accuracy   \" + str(ac))"
   ]
  },
  {
   "cell_type": "markdown",
   "metadata": {},
   "source": [
    "<h1> Random forest classifier </h1>"
   ]
  },
  {
   "cell_type": "code",
   "execution_count": 27,
   "metadata": {},
   "outputs": [
    {
     "data": {
      "text/plain": [
       "array([1, 1, 1, ..., 0, 1, 1], dtype=int64)"
      ]
     },
     "execution_count": 27,
     "metadata": {},
     "output_type": "execute_result"
    }
   ],
   "source": [
    "#Training algorithm\n",
    "from sklearn.ensemble import RandomForestClassifier\n",
    "\n",
    "\n",
    "clf=RandomForestClassifier(n_estimators=100)\n",
    "\n",
    "#Train the model using the training sets y_pred=clf.predict(X_test)\n",
    "clf.fit(X_train,y_train.values.ravel())\n",
    "\n",
    "y_pred=clf.predict(X_test)\n",
    "y_pred"
   ]
  },
  {
   "cell_type": "code",
   "execution_count": 28,
   "metadata": {},
   "outputs": [
    {
     "name": "stdout",
     "output_type": "stream",
     "text": [
      "confusion matrix : \n",
      " [[498 125]\n",
      " [ 61 594]]\n",
      "precision: 0.8261474269819193\n",
      "recall:    0.9068702290076336\n",
      "f-score:   0.8646288209606987\n",
      "accuracy   0.8544600938967136\n"
     ]
    }
   ],
   "source": [
    "#Evaluating algorithm\n",
    "from sklearn.metrics import classification_report, confusion_matrix, accuracy_score\n",
    "\n",
    "p_score = precision_score(y_test, y_pred)\n",
    "r_score = recall_score(y_test, y_pred)\n",
    "f1 = f1_score(y_test, y_pred)\n",
    "cfmatrix = confusion_matrix(y_test, y_pred)\n",
    "ac=accuracy_score(y_test, y_pred)\n",
    "print(\"confusion matrix : \\n \"+ str(cfmatrix ))\n",
    "print(\"precision: \"+ str(p_score))\n",
    "print(\"recall:    \"+str(r_score))\n",
    "print(\"f-score:   \" + str(f1))\n",
    "print(\"accuracy   \" + str(ac))"
   ]
  },
  {
   "cell_type": "code",
   "execution_count": 29,
   "metadata": {},
   "outputs": [
    {
     "data": {
      "text/plain": [
       "<AxesSubplot:ylabel='Frequency'>"
      ]
     },
     "execution_count": 29,
     "metadata": {},
     "output_type": "execute_result"
    },
    {
     "data": {
      "image/png": "[encoded data removed]",
      "text/plain": [
       "<Figure size 432x288 with 1 Axes>"
      ]
     },
     "metadata": {
      "needs_background": "light"
     },
     "output_type": "display_data"
    }
   ],
   "source": [
    "df[[\"loudness\", \"energy\"]].plot.hist()"
   ]
  },
  {
   "cell_type": "code",
   "execution_count": 30,
   "metadata": {},
   "outputs": [
    {
     "data": {
      "text/plain": [
       "<AxesSubplot:ylabel='Frequency'>"
      ]
     },
     "execution_count": 30,
     "metadata": {},
     "output_type": "execute_result"
    },
    {
     "data": {
      "image/png": "[encoded data removed]",
      "text/plain": [
       "<Figure size 432x288 with 1 Axes>"
      ]
     },
     "metadata": {
      "needs_background": "light"
     },
     "output_type": "display_data"
    }
   ],
   "source": [
    "df[[\"acousticness\",\"speechiness\"]].plot.hist(alpha=0.4)"
   ]
  },
  {
   "cell_type": "code",
   "execution_count": 31,
   "metadata": {},
   "outputs": [
    {
     "data": {
      "image/png": "[encoded data removed]",
      "text/plain": [
       "<Figure size 288x288 with 2 Axes>"
      ]
     },
     "metadata": {
      "needs_background": "light"
     },
     "output_type": "display_data"
    }
   ],
   "source": [
    "plt.matshow(df.corr())\n",
    "plt.xticks(range(len(df.columns)),df.columns)\n",
    "plt.yticks(range(len(df.columns)),df.columns)\n",
    "plt.colorbar()\n",
    "plt.show()"
   ]
  },
  {
   "cell_type": "code",
   "execution_count": 32,
   "metadata": {},
   "outputs": [
    {
     "data": {
      "image/png": "[encoded data removed]",
      "text/plain": [
       "<Figure size 432x288 with 2 Axes>"
      ]
     },
     "metadata": {
      "needs_background": "light"
     },
     "output_type": "display_data"
    }
   ],
   "source": [
    "sns.heatmap(df.corr(method=\"pearson\"))\n",
    "plt.show()\n",
    "plt.savefig(\"h.jpg\")\n",
    "plt.clf()\n",
    "plt.close()"
   ]
  },
  {
   "cell_type": "code",
   "execution_count": null,
   "metadata": {},
   "outputs": [],
   "source": []
  }
 ],
 "metadata": {
  "kernelspec": {
   "display_name": "Python 3",
   "language": "python",
   "name": "python3"
  },
  "language_info": {
   "codemirror_mode": {
    "name": "ipython",
    "version": 3
   },
   "file_extension": ".py",
   "mimetype": "text/x-python",
   "name": "python",
   "nbconvert_exporter": "python",
   "pygments_lexer": "ipython3",
   "version": "3.8.5"
  }
 },
 "nbformat": 4,
 "nbformat_minor": 4
}
